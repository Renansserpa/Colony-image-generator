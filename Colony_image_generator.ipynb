{
  "nbformat": 4,
  "nbformat_minor": 0,
  "metadata": {
    "colab": {
      "name": "Colony_image_generator.ipynb",
      "provenance": [],
      "collapsed_sections": []
    },
    "kernelspec": {
      "display_name": "Python 3",
      "name": "python3"
    },
    "language_info": {
      "name": "python"
    }
  },
  "cells": [
    {
      "cell_type": "code",
      "metadata": {
        "colab": {
          "base_uri": "https://localhost:8080/"
        },
        "id": "FjVL9auMFtlJ",
        "outputId": "a82d9563-ce6c-4dac-cc4b-8cadf4d7902a"
      },
      "source": [
        "import PIL\n",
        "from PIL import Image, ImageDraw\n",
        "from google.colab import drive\n",
        "drive.mount('/content/drive',force_remount=True)\n",
        "import numpy as np\n",
        "import os\n",
        "import math\n",
        "import random\n",
        "import matplotlib.pyplot as plt\n",
        "from shapely.geometry import Polygon, Point\n",
        "import itertools"
      ],
      "execution_count": null,
      "outputs": [
        {
          "output_type": "stream",
          "name": "stdout",
          "text": [
            "Mounted at /content/drive\n"
          ]
        }
      ]
    },
    {
      "cell_type": "code",
      "metadata": {
        "colab": {
          "base_uri": "https://localhost:8080/"
        },
        "id": "W8F0vTXqHmqO",
        "outputId": "79053942-be5c-451f-ab7a-c2d372124ff3"
      },
      "source": [
        "%cd /content/drive/My Drive/yolo_custom_model_Training/"
      ],
      "execution_count": null,
      "outputs": [
        {
          "output_type": "stream",
          "name": "stdout",
          "text": [
            "/content/drive/My Drive/yolo_custom_model_Training\n"
          ]
        }
      ]
    },
    {
      "cell_type": "code",
      "metadata": {
        "id": "DhDLWGhUfYFj"
      },
      "source": [
        "def escolher_colonia():\n",
        "  i_colonia = np.random.randint(1,21)\n",
        "  tamanho_colonia = np.random.randint(20,51)\n",
        "  colonia = Image.open(f'colonias/{i_colonia}.png').resize((tamanho_colonia,tamanho_colonia))\n",
        "  return colonia\n",
        "\n",
        "def escolher_fundo():\n",
        "  i_fundo = np.random.randint(1,16+1)\n",
        "  fundo = Image.open(f'fundos/fundo{i_fundo}.png')\n",
        "  return fundo"
      ],
      "execution_count": null,
      "outputs": []
    },
    {
      "cell_type": "code",
      "metadata": {
        "id": "VMEMJAxU955v"
      },
      "source": [
        "def distance(a, b):\n",
        "    return Point(a).distance(Point(b))\n",
        "\n",
        "class Square(object):\n",
        "    def __init__(self,fundo_copia):\n",
        "        self.colonia = escolher_colonia()\n",
        "        self.fundo_size= fundo_copia.size\n",
        "        self.espacosx = [(877,1047),(1217,1677),(1049,1831),(1199,1667),(1831,2000)]\n",
        "        self.espacosy = [(625,1439), (368,476) ,(480,1573) ,(1575,1656),(632,1414)]\n",
        "        self.i_espaço = np.random.choice([0,1,2,3,4],p= [0.125,0.125,0.5,0.125,0.125]) #Esquerda, cima, centro, baixo, direita\n",
        "        self.x0, self.y0 = np.random.randint(low=self.espacosx[self.i_espaço][0],high=self.espacosx[self.i_espaço][1]-self.colonia.size[0]),\\\n",
        "                                             np.random.randint(low=self.espacosy[self.i_espaço][0],high=self.espacosy[self.i_espaço][1]-self.colonia.size[1])\n",
        "        self.x1 = self.x0 + self.colonia.size[0]\n",
        "        self.x2 = self.x1 \n",
        "        self.x3 = self.x0\n",
        "        self.y1 = self.y0\n",
        "        self.y2 = self.y1 + self.colonia.size[1]\n",
        "        self.y3 = self.y2                                       # Esquema do quadrado:  \n",
        "        self.corners = ((self.x0, self.y0), (self.x1, self.y1), #                 [0]       [1]         [2]           [3]\n",
        "                        (self.x2, self.y2), (self.x3, self.y3)) #     Pontos:   up left   up right   down right    down left\n",
        "    @property\n",
        "    def center(self):\n",
        "        \"\"\"(x, y) centro do polígono.\"\"\"\n",
        "        return Polygon(self.corners).centroid.coords[0]\n",
        "\n",
        "    @property\n",
        "    def half_diag(self):\n",
        "        \"\"\"Distância do centro ao canto\"\"\"\n",
        "        p0, p1, p2, p3 = self.corners\n",
        "        return 0.5 * distance(p0, p1) * math.sqrt(2)\n",
        "\n",
        "    @property\n",
        "    def yolo_coord(self):\n",
        "        \"\"\"As coordenadas da colonia no padrão Yolo normalized[xcenter,ycenter,width,height]\"\"\"\n",
        "        xcenter = self.center[0]/self.fundo_size[0]\n",
        "        ycenter = self.center[1]/self.fundo_size[1]\n",
        "        width   = self.colonia.size[0] /self.fundo_size[0]\n",
        "        height  = self.colonia.size[1] /self.fundo_size[1]\n",
        "        return [xcenter,ycenter,width,height]\n",
        "    \n",
        "def test_overlap(square1, square2):\n",
        "\n",
        "  # Distância entre dois centros\n",
        "  ctc = distance(square1.center, square2.center)\n",
        "  # Soma entre as half diagonals\n",
        "  halfdiags = square1.half_diag + square2.half_diag\n",
        "  res = ctc < halfdiags\n",
        "  return res"
      ],
      "execution_count": null,
      "outputs": []
    },
    {
      "cell_type": "code",
      "metadata": {
        "id": "ze4YlhbG-IBM"
      },
      "source": [
        "class Squares(object):\n",
        "    def __init__(self):\n",
        "        self.squares = []\n",
        "\n",
        "    def add_square(self,fundo_copia):\n",
        "        new_square = Square(fundo_copia)\n",
        "        if not self.squares:\n",
        "            self.squares.append(new_square)\n",
        "        else:\n",
        "            while True:\n",
        "            # Testa se o novo quadrado faz overlap com o existente\n",
        "                res = [test_overlap(square, new_square) for square in self.squares]\n",
        "                if any(res):\n",
        "                    # No caso de sobrepor algum\n",
        "                    new_square = Square(fundo_copia)\n",
        "                else:\n",
        "                    # Adicionando à coleção\n",
        "                    self.squares.append(new_square)\n",
        "                    break\n",
        "\n",
        "    def plot_squares(self,fundo):\n",
        "        text_img = Image.new('RGBA', fundo.size, (0, 0, 0, 0))\n",
        "        text_img.paste(fundo, (0,0))\n",
        "        texto = []\n",
        "        for square in self.squares:\n",
        "            (x0, y0), (x1, y1), (x2, y2), (x3, y3) = square.corners\n",
        "            texto.append(square.yolo_coord)\n",
        "            text_img.paste(square.colonia, (x0,y0), mask=square.colonia)\n",
        "        return text_img,texto"
      ],
      "execution_count": null,
      "outputs": []
    },
    {
      "cell_type": "code",
      "metadata": {
        "id": "y2qtqK8t-Q41"
      },
      "source": [
        "%matplotlib inline\n",
        "def colar_embaralhado (quantidade,indice,save= True,name=None):\n",
        "  fundo = escolher_fundo()\n",
        "  fundo_copia = fundo.copy()\n",
        "  quadrados= Squares()\n",
        "  for _ in itertools.repeat(None, quantidade):\n",
        "    quadrados.add_square(fundo_copia)\n",
        "  if save:\n",
        "    img,coord = quadrados.plot_squares(fundo_copia)\n",
        "    img.save(f'colonia_check/{indice}%{quantidade}%.png')"
      ],
      "execution_count": null,
      "outputs": []
    },
    {
      "cell_type": "code",
      "metadata": {
        "id": "nImRMR_XAcio"
      },
      "source": [
        "#Digite quantas imagens quer logo abaixo\n",
        "for indice,i in enumerate(np.arange(1,201)):\n",
        "  name= str(i)\n",
        "  quantidade = np.random.randint(5,41)\n",
        "  colar_embaralhado(quantidade,indice,save= True,name=name)"
      ],
      "execution_count": null,
      "outputs": []
    }
  ]
}